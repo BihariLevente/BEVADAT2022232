{
 "cells": [
  {
   "cell_type": "code",
   "execution_count": 1,
   "id": "a6002a8e-acb1-4fbf-b98d-f5c9603a89b3",
   "metadata": {
    "tags": []
   },
   "outputs": [],
   "source": [
    "#Create a function that decides if a list contains any odd numbers.\n",
    "#return type: bool\n",
    "#function name must be: contains_odd\n",
    "#input parameters: input_list"
   ]
  },
  {
   "cell_type": "code",
   "execution_count": 4,
   "id": "fd8f52e6-72d4-4e7e-bd94-3c9cce0d6af6",
   "metadata": {
    "tags": []
   },
   "outputs": [
    {
     "data": {
      "text/plain": [
       "True"
      ]
     },
     "execution_count": 4,
     "metadata": {},
     "output_type": "execute_result"
    }
   ],
   "source": [
    "list = [2,4,1]\n",
    "\n",
    "def contains_odd(input_list):\n",
    "    for x in input_list:\n",
    "        if (x%2==1):\n",
    "            return True\n",
    "    return False\n",
    "    \n",
    "contains_odd(list)"
   ]
  },
  {
   "cell_type": "code",
   "execution_count": 52,
   "id": "5b6495e8-61ce-4c43-b0fa-c4573e447779",
   "metadata": {
    "tags": []
   },
   "outputs": [],
   "source": [
    "#Create a function that accepts a list of integers, and returns a list of bool.\n",
    "#The return list should be a \"mask\" and indicate whether the list element is odd or not.\n",
    "#(return should look like this: [True,False,False,.....])\n",
    "#return type: list\n",
    "#function name must be: is_odd\n",
    "#input parameters: input_list"
   ]
  },
  {
   "cell_type": "code",
   "execution_count": 107,
   "id": "8285e383-79f4-4fe4-a02f-889c8999a608",
   "metadata": {
    "tags": []
   },
   "outputs": [
    {
     "data": {
      "text/plain": [
       "[True, True, True, True, False, True]"
      ]
     },
     "execution_count": 107,
     "metadata": {},
     "output_type": "execute_result"
    }
   ],
   "source": [
    "list = [1,3,1,3,2,1]\n",
    "def is_odd(input_list):\n",
    "    bool_list = []   \n",
    "    for x in input_list:\n",
    "        if (x%2==1):\n",
    "            bool_list.append(True)\n",
    "        else:\n",
    "            bool_list.append(False)\n",
    "    return bool_list\n",
    "            \n",
    "is_odd(list)"
   ]
  },
  {
   "cell_type": "code",
   "execution_count": 69,
   "id": "1f873a07-737d-4158-8b0a-c83fa562f4fd",
   "metadata": {
    "tags": []
   },
   "outputs": [],
   "source": [
    "#Create a function that accpects 2 lists of integers and returns their element wise sum. \n",
    "#(return should be a list)\n",
    "#return type: list\n",
    "#function name must be: element_wise_sum\n",
    "#input parameters: input_list_1, input_list_2"
   ]
  },
  {
   "cell_type": "code",
   "execution_count": 104,
   "id": "e462f1fb-7136-473b-ad00-f38710c428c6",
   "metadata": {
    "tags": []
   },
   "outputs": [
    {
     "data": {
      "text/plain": [
       "[2, 4, 2, 6, 4, 2]"
      ]
     },
     "execution_count": 104,
     "metadata": {},
     "output_type": "execute_result"
    }
   ],
   "source": [
    "input_list_1 = [1,2,1,3,2,1]\n",
    "input_list_2 = [1,2,1,3,2,1]\n",
    "def element_wise_sum(input_list_1, input_list_2):\n",
    "    wise_sum = []\n",
    "    for idx, x in enumerate(input_list_1):\n",
    "        wise_sum.append(x+input_list_2[idx])\n",
    "    return wise_sum\n",
    "            \n",
    "element_wise_sum(input_list_1,input_list_2)"
   ]
  },
  {
   "cell_type": "code",
   "execution_count": 105,
   "id": "f5baac9c-67f4-4c67-aace-a8c120d54699",
   "metadata": {},
   "outputs": [],
   "source": [
    "#Create a function that accepts a dictionary and returns its items as a list of tuples\n",
    "#(return should look like this: [(key,value),(key,value),....])\n",
    "#return type: list\n",
    "#function name must be: dict_to_list\n",
    "#input parameters: input_dict"
   ]
  },
  {
   "cell_type": "code",
   "execution_count": 153,
   "id": "00f51dbf-f961-4d7e-97d5-419a546fcb98",
   "metadata": {
    "tags": []
   },
   "outputs": [
    {
     "data": {
      "text/plain": [
       "[('FistName', 'Levente'),\n",
       " ('LastName', 'Bihari'),\n",
       " ('BirthYear', 2001),\n",
       " ('Sex', 'Male')]"
      ]
     },
     "execution_count": 153,
     "metadata": {},
     "output_type": "execute_result"
    }
   ],
   "source": [
    "thisdict = {\n",
    "  \"FistName\": \"Levente\",\n",
    "  \"LastName\": \"Bihari\",\n",
    "  \"BirthYear\": 2001,\n",
    "  \"Sex\": \"Male\"}\n",
    "\n",
    "def dict_to_list(input_dict):\n",
    "    tuple_list = []   \n",
    "    for x, y in input_dict.items():\n",
    "        tuple_list.append((x,y))\n",
    "    return tuple_list\n",
    "            \n",
    "dict_to_list(thisdict)"
   ]
  },
  {
   "cell_type": "code",
   "execution_count": null,
   "id": "92eb956f-9e02-44eb-b811-4c7cbaede8ff",
   "metadata": {},
   "outputs": [],
   "source": []
  }
 ],
 "metadata": {
  "kernelspec": {
   "display_name": "Python 3 (ipykernel)",
   "language": "python",
   "name": "python3"
  },
  "language_info": {
   "codemirror_mode": {
    "name": "ipython",
    "version": 3
   },
   "file_extension": ".py",
   "mimetype": "text/x-python",
   "name": "python",
   "nbconvert_exporter": "python",
   "pygments_lexer": "ipython3",
   "version": "3.10.10"
  }
 },
 "nbformat": 4,
 "nbformat_minor": 5
}

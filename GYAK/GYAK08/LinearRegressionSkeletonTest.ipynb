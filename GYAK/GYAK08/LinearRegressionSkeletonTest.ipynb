{
 "cells": [
  {
   "cell_type": "code",
   "execution_count": 1,
   "metadata": {},
   "outputs": [],
   "source": [
    "%load_ext autoreload\n",
    "%autoreload 2\n",
    "\n",
    "from LinearRegressionSkeleton import LinearRegression\n",
    "from matplotlib import pyplot as plt"
   ]
  },
  {
   "cell_type": "code",
   "execution_count": 2,
   "metadata": {},
   "outputs": [
    {
     "name": "stdout",
     "output_type": "stream",
     "text": [
      "[1.5758735997488573, 0.4797394706791768, 2.379705294399956, 1.502797991144212, 1.6124114040511799, 0.4066638620745315, 1.1739577524233078, 1.7220248169581478, 1.502797991144212, 1.2835711653302757, 1.7220248169581478, 0.3701260577722087, 0.33358825346988613, 0.4066638620745315, 0.4066638620745315, 1.5758735997488573, 1.9777894470744066, 1.2835711653302757, 1.502797991144212, 1.904713838469761, 0.44320166637685415, 1.6489492083535027, 0.44320166637685415, 1.904713838469761, 2.1970162728883427, 1.7585626212604708, 1.9777894470744066, 2.0143272513767294, 0.3701260577722087, 0.44320166637685415]\n",
      "[1.5758735997488573, 0.4797394706791768, 2.379705294399956, 1.502797991144212, 1.6124114040511799, 0.4066638620745315, 1.1739577524233078, 1.7220248169581478, 1.502797991144212, 1.2835711653302757, 1.7220248169581478, 0.3701260577722087, 0.33358825346988613, 0.4066638620745315, 0.4066638620745315, 1.5758735997488573, 1.9777894470744066, 1.2835711653302757, 1.502797991144212, 1.904713838469761, 0.44320166637685415, 1.6489492083535027, 0.44320166637685415, 1.904713838469761, 2.1970162728883427, 1.7585626212604708, 1.9777894470744066, 2.0143272513767294, 0.3701260577722087, 0.44320166637685415]\n"
     ]
    }
   ],
   "source": [
    "model = LinearRegression()\n",
    "X, y = model.load_data('petal length (cm)','petal width (cm)')\n",
    "losses = model.fit(X, y)\n",
    "pred = model.predict(model.X_test)\n",
    "print(pred)\n",
    "\n"
   ]
  },
  {
   "cell_type": "code",
   "execution_count": null,
   "metadata": {},
   "outputs": [],
   "source": []
  }
 ],
 "metadata": {
  "kernelspec": {
   "display_name": "Python 3",
   "language": "python",
   "name": "python3"
  },
  "language_info": {
   "codemirror_mode": {
    "name": "ipython",
    "version": 3
   },
   "file_extension": ".py",
   "mimetype": "text/x-python",
   "name": "python",
   "nbconvert_exporter": "python",
   "pygments_lexer": "ipython3",
   "version": "3.11.2"
  },
  "orig_nbformat": 4
 },
 "nbformat": 4,
 "nbformat_minor": 2
}

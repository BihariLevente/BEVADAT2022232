{
 "cells": [
  {
   "cell_type": "code",
   "execution_count": 25,
   "metadata": {},
   "outputs": [],
   "source": [
    "import pandas as pd\n",
    "import numpy as np\n",
    "import seaborn as sns\n",
    "from typing import Tuple\n",
    "from scipy.stats import mode\n",
    "from sklearn.metrics import confusion_matrix\n",
    "\n",
    "csv_path = \"diabetes.csv\""
   ]
  },
  {
   "attachments": {},
   "cell_type": "markdown",
   "metadata": {},
   "source": [
    "Load data and clean, try loading without shuffle"
   ]
  },
  {
   "cell_type": "code",
   "execution_count": 26,
   "metadata": {},
   "outputs": [],
   "source": [
    "def load_csv(csv_path:str) -> Tuple[pd.DataFrame , pd.DataFrame]:\n",
    "    dataset = pd.read_csv(csv_path, delimiter=',')\n",
    "    dataset = dataset.sample(frac=1, random_state=42).reset_index(drop=True)\n",
    "    x,y = dataset.iloc[:,:4], dataset.iloc[:,-1]\n",
    "    return x,y"
   ]
  },
  {
   "cell_type": "code",
   "execution_count": 27,
   "metadata": {},
   "outputs": [
    {
     "name": "stdout",
     "output_type": "stream",
     "text": [
      "     Pregnancies  Glucose  BloodPressure  SkinThickness\n",
      "0              6       98             58             33\n",
      "1              2      112             75             32\n",
      "2              2      108             64              0\n",
      "3              8      107             80              0\n",
      "4              7      136             90              0\n",
      "..           ...      ...            ...            ...\n",
      "763            5      139             64             35\n",
      "764            1       96            122              0\n",
      "765           10      101             86             37\n",
      "766            0      141              0              0\n",
      "767            0      125             96              0\n",
      "\n",
      "[768 rows x 4 columns] 0      0\n",
      "1      0\n",
      "2      0\n",
      "3      0\n",
      "4      0\n",
      "      ..\n",
      "763    0\n",
      "764    0\n",
      "765    1\n",
      "766    1\n",
      "767    0\n",
      "Name: Outcome, Length: 768, dtype: int64\n"
     ]
    }
   ],
   "source": [
    "x,y = load_csv(csv_path)\n",
    "\n",
    "print(x, y)"
   ]
  },
  {
   "cell_type": "code",
   "execution_count": 28,
   "metadata": {},
   "outputs": [
    {
     "data": {
      "text/plain": [
       "(array([  3.84505208, 120.89453125,  69.10546875,  20.53645833]),\n",
       " array([  11.33927239, 1020.91726176,  374.15944926,  254.14189996]))"
      ]
     },
     "execution_count": 28,
     "metadata": {},
     "output_type": "execute_result"
    }
   ],
   "source": [
    "np.nanmean(x,axis=0),np.nanvar(x,axis=0)"
   ]
  },
  {
   "cell_type": "code",
   "execution_count": 29,
   "metadata": {},
   "outputs": [
    {
     "data": {
      "text/plain": [
       "(768, 4)"
      ]
     },
     "execution_count": 29,
     "metadata": {},
     "output_type": "execute_result"
    }
   ],
   "source": [
    "x[np.isnan(x)] = 3.5\n",
    "x.shape"
   ]
  },
  {
   "cell_type": "code",
   "execution_count": 30,
   "metadata": {},
   "outputs": [
    {
     "data": {
      "text/plain": [
       "(Pregnancies        3.845052\n",
       " Glucose          120.894531\n",
       " BloodPressure     69.105469\n",
       " SkinThickness     20.536458\n",
       " dtype: float64,\n",
       " Pregnancies        11.339272\n",
       " Glucose          1020.917262\n",
       " BloodPressure     374.159449\n",
       " SkinThickness     254.141900\n",
       " dtype: float64)"
      ]
     },
     "execution_count": 30,
     "metadata": {},
     "output_type": "execute_result"
    }
   ],
   "source": [
    "np.mean(x,axis=0),np.var(x,axis=0)"
   ]
  },
  {
   "cell_type": "code",
   "execution_count": 34,
   "metadata": {},
   "outputs": [
    {
     "data": {
      "text/plain": [
       "(Pregnancies        4\n",
       " Glucose          763\n",
       " BloodPressure    733\n",
       " SkinThickness    508\n",
       " dtype: int64,\n",
       " Pregnancies      0\n",
       " Glucose          0\n",
       " BloodPressure    0\n",
       " SkinThickness    0\n",
       " dtype: int64)"
      ]
     },
     "execution_count": 34,
     "metadata": {},
     "output_type": "execute_result"
    }
   ],
   "source": [
    "(x > 13.0).sum(), (x < 0.0).sum()"
   ]
  },
  {
   "cell_type": "code",
   "execution_count": 35,
   "metadata": {},
   "outputs": [
    {
     "data": {
      "text/plain": [
       "((array([], dtype=int64), array([], dtype=int64)),\n",
       " (array([  0,   0,   0, ..., 766, 767, 767], dtype=int64),\n",
       "  array([1, 2, 3, ..., 1, 1, 2], dtype=int64)))"
      ]
     },
     "execution_count": 35,
     "metadata": {},
     "output_type": "execute_result"
    }
   ],
   "source": [
    "less_than = np.where(x < 0.0)\n",
    "higher_than = np.where(x > 13.0)\n",
    "less_than,higher_than"
   ]
  },
  {
   "attachments": {},
   "cell_type": "markdown",
   "metadata": {},
   "source": [
    "Train test split\n",
    "try optim"
   ]
  },
  {
   "cell_type": "code",
   "execution_count": 38,
   "metadata": {},
   "outputs": [],
   "source": [
    "def train_test_split(features: pd.DataFrame,\n",
    "                     labels: pd.DataFrame,\n",
    "                     test_split_ratio:float) -> None:\n",
    "        \n",
    "    test_size = int(len(features) * test_split_ratio)\n",
    "    train_size = len(features) - test_size\n",
    "    assert len(features) == test_size + train_size, \"Size mismatch!\"\n",
    "\n",
    "    x_train,y_train = features[:train_size,:],labels[:train_size]\n",
    "    x_test,y_test = features[train_size:train_size+test_size,:], labels[train_size:train_size + test_size]\n",
    "    return (x_train,y_train,x_test,y_test)"
   ]
  },
  {
   "attachments": {},
   "cell_type": "markdown",
   "metadata": {},
   "source": [
    "Distance"
   ]
  },
  {
   "cell_type": "code",
   "execution_count": 45,
   "metadata": {},
   "outputs": [],
   "source": [
    "def euclidean(points: pd.DataFrame,element_of_x: pd.DataFrame) -> pd.DataFrame:\n",
    "    return pd.sqrt(pd.sum((points - element_of_x)**2,axis=1))"
   ]
  },
  {
   "attachments": {},
   "cell_type": "markdown",
   "metadata": {},
   "source": [
    "Predict func"
   ]
  },
  {
   "cell_type": "code",
   "execution_count": 46,
   "metadata": {},
   "outputs": [],
   "source": [
    "def predict(x_train: pd.DataFrame,y_train: pd.DataFrame,x_test: pd.DataFrame,k:int) -> pd.DataFrame:\n",
    "    labels_pred = []\n",
    "    for x_test_element in x_test:\n",
    "        distances = euclidean(x_train,x_test_element)\n",
    "        distances = pd.DataFrame(sorted(zip(distances,y_train)))\n",
    "        label_pred = mode(distances[:k,1],keepdims=False).mode\n",
    "        labels_pred.append(label_pred)\n",
    "    return pd.DataFrame(labels_pred,dtype=pd.int32)"
   ]
  },
  {
   "attachments": {},
   "cell_type": "markdown",
   "metadata": {},
   "source": [
    "Metrics"
   ]
  },
  {
   "cell_type": "code",
   "execution_count": 24,
   "metadata": {},
   "outputs": [],
   "source": [
    "def accuracy(y_test:pd.DataFrame, y_preds:pd.DataFrame) -> float:\n",
    "    true_positive = (y_test == y_preds).sum()\n",
    "    return true_positive / len(y_test) * 100"
   ]
  },
  {
   "cell_type": "code",
   "execution_count": 25,
   "metadata": {},
   "outputs": [],
   "source": [
    "def plot_confusion_matrix(y_test: pd.DataFrame,y_preds: pd.DataFrame) -> np.Array:\n",
    "        conf_matrix = confusion_matrix(y_test,y_preds)\n",
    "        return conf_matrix "
   ]
  },
  {
   "cell_type": "code",
   "execution_count": null,
   "metadata": {},
   "outputs": [],
   "source": []
  }
 ],
 "metadata": {
  "kernelspec": {
   "display_name": "Python 3",
   "language": "python",
   "name": "python3"
  },
  "language_info": {
   "codemirror_mode": {
    "name": "ipython",
    "version": 3
   },
   "file_extension": ".py",
   "mimetype": "text/x-python",
   "name": "python",
   "nbconvert_exporter": "python",
   "pygments_lexer": "ipython3",
   "version": "3.11.2"
  },
  "orig_nbformat": 4
 },
 "nbformat": 4,
 "nbformat_minor": 2
}

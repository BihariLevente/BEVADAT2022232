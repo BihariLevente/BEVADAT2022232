{
 "cells": [
  {
   "cell_type": "code",
   "execution_count": 1,
   "id": "ce46712b-fe7f-4860-bc14-277480713e68",
   "metadata": {
    "tags": []
   },
   "outputs": [],
   "source": [
    "#Create a function that returns with a subsest of a list.\n",
    "#The subset's starting and ending indexes should be set as input parameters (the list aswell).\n",
    "#return type: list\n",
    "#function name must be: subset\n",
    "#input parameters: input_list,start_index,end_index"
   ]
  },
  {
   "cell_type": "code",
   "execution_count": 332,
   "id": "4d998f44-0cc9-48ef-a133-d030b7e67ad2",
   "metadata": {
    "tags": []
   },
   "outputs": [
    {
     "data": {
      "text/plain": [
       "[3, 4]"
      ]
     },
     "execution_count": 332,
     "metadata": {},
     "output_type": "execute_result"
    }
   ],
   "source": [
    "list = [1,2,3,4,5,6,7,8,9]\n",
    "\n",
    "def subset(input_list,start_index,end_index):\n",
    "    subsetList = input_list[start_index:end_index]\n",
    "    return subsetList\n",
    "    \n",
    "subset(list,2,4)"
   ]
  },
  {
   "cell_type": "code",
   "execution_count": 2,
   "id": "337a5688-22e0-4699-9c2c-0a2d0c4716a4",
   "metadata": {
    "tags": []
   },
   "outputs": [],
   "source": [
    "#Create a function that returns every nth element of a list.\n",
    "#return type: list\n",
    "#function name must be: every_nth\n",
    "#input parameters: input_list,step_size"
   ]
  },
  {
   "cell_type": "code",
   "execution_count": 39,
   "id": "6a2090a6-64b0-40fd-bf19-310e03ae863a",
   "metadata": {
    "tags": []
   },
   "outputs": [
    {
     "data": {
      "text/plain": [
       "[1, 3, 5, 7, 9]"
      ]
     },
     "execution_count": 39,
     "metadata": {},
     "output_type": "execute_result"
    }
   ],
   "source": [
    "list = [1,2,3,4,5,6,7,8,9]\n",
    "\n",
    "def every_nth(input_list,step_size):\n",
    "    nthList = input_list[::step_size]\n",
    "    return nthList\n",
    "    \n",
    "every_nth(list,2)"
   ]
  },
  {
   "cell_type": "code",
   "execution_count": 3,
   "id": "255cfd2d-2649-4eb8-b119-547182a88bbf",
   "metadata": {
    "tags": []
   },
   "outputs": [],
   "source": [
    "#Create a function that can decide whether a list contains unique values or not\n",
    "#return type: bool\n",
    "#function name must be: unique\n",
    "#input parameters: input_list"
   ]
  },
  {
   "cell_type": "code",
   "execution_count": 5,
   "id": "c99d509d-282a-4ae2-a170-009dd6904a0c",
   "metadata": {
    "tags": []
   },
   "outputs": [
    {
     "data": {
      "text/plain": [
       "True"
      ]
     },
     "execution_count": 5,
     "metadata": {},
     "output_type": "execute_result"
    }
   ],
   "source": [
    "list = [1,2,3]\n",
    "\n",
    "def unique(input_list):\n",
    "    for i, x in enumerate(input_list):\n",
    "        for j, y in enumerate(input_list):\n",
    "            if (i != j):\n",
    "                if (input_list[i] == input_list[j]):\n",
    "                    return False\n",
    "    return True                \n",
    "unique(list)"
   ]
  },
  {
   "cell_type": "code",
   "execution_count": 60,
   "id": "ebaeae31-451a-49da-90d0-45afe7882216",
   "metadata": {
    "tags": []
   },
   "outputs": [],
   "source": [
    "#Create a function that can flatten a nested list ([[..],[..],..])\n",
    "#return type: list\n",
    "#fucntion name must be: flatten\n",
    "#input parameters: input_list"
   ]
  },
  {
   "cell_type": "code",
   "execution_count": 334,
   "id": "7f73bd24-b47d-4343-9d08-5de79f8b5adf",
   "metadata": {
    "tags": []
   },
   "outputs": [
    {
     "data": {
      "text/plain": [
       "[1, 2, 3, 4, 5, 6, 7, 8, 9]"
      ]
     },
     "execution_count": 334,
     "metadata": {},
     "output_type": "execute_result"
    }
   ],
   "source": [
    "list = [[1,2,3],[4,5,6],[7,8,9]]\n",
    "\n",
    "def flatten(input_list):\n",
    "    flattenList = []\n",
    "    for x in input_list:\n",
    "        for y in x:\n",
    "            flattenList.append(y)\n",
    "    return flattenList\n",
    "    \n",
    "flatten(list)"
   ]
  },
  {
   "cell_type": "code",
   "execution_count": 5,
   "id": "d17ba60c-0221-4dc1-88a4-ec9172c87ff4",
   "metadata": {
    "tags": []
   },
   "outputs": [],
   "source": [
    "#Create a function that concatenates n lists\n",
    "#return type: list\n",
    "#function name must be: merge_lists\n",
    "#input parameters: *args"
   ]
  },
  {
   "cell_type": "code",
   "execution_count": 335,
   "id": "0c1bab5a-e557-4dec-8c82-d039e3ab9dd6",
   "metadata": {
    "tags": []
   },
   "outputs": [
    {
     "data": {
      "text/plain": [
       "[1, 2, 3, 4, 5, 6, 7, 8, 9, 10, 9, 8, 7, 6, 5, 4, 3, 2, 1]"
      ]
     },
     "execution_count": 335,
     "metadata": {},
     "output_type": "execute_result"
    }
   ],
   "source": [
    "list = [1,2,3,4,5,6,7,8,9]\n",
    "list2 = [10]\n",
    "list3 = [9,8,7,6,5,4,3,2,1]\n",
    "\n",
    "def merge_lists(*args):\n",
    "    merge_List = []\n",
    "    for arg in args:\n",
    "        for x in arg:\n",
    "            merge_List.append(x)\n",
    "    return merge_List\n",
    "    \n",
    "merge_lists(list, list2, list3)"
   ]
  },
  {
   "cell_type": "code",
   "execution_count": 6,
   "id": "c447422b-7e2a-4346-9fac-f2a6af9f58d8",
   "metadata": {
    "tags": []
   },
   "outputs": [],
   "source": [
    "#Create a function that can reverse a list of tuples\n",
    "#example [(1,2),...] => [(2,1),...]\n",
    "#return type: list\n",
    "#fucntion name must be: reverse_tuples\n",
    "#input parameters: input_list"
   ]
  },
  {
   "cell_type": "code",
   "execution_count": 336,
   "id": "b93eaf7b-6f3d-47da-a8a0-74e838f80294",
   "metadata": {
    "tags": []
   },
   "outputs": [
    {
     "data": {
      "text/plain": [
       "[(2, 1), (4, 3), (6, 5), (8, 7), (10, 9)]"
      ]
     },
     "execution_count": 336,
     "metadata": {},
     "output_type": "execute_result"
    }
   ],
   "source": [
    "list = [(1,2),(3,4),(5,6),(7,8),(9,10)]\n",
    "\n",
    "def reverse_tuples(input_list):\n",
    "    reverseList = []\n",
    "    for tuple in input_list:\n",
    "        reverseList.append(tuple[::-1])\n",
    "    return reverseList\n",
    "\n",
    "reverse_tuples(list)"
   ]
  },
  {
   "cell_type": "code",
   "execution_count": 7,
   "id": "7fa6dfc9-e455-4838-8e30-d44af87036d7",
   "metadata": {
    "tags": []
   },
   "outputs": [],
   "source": [
    "#Create a function that removes duplicates from a list\n",
    "#return type: list\n",
    "#fucntion name must be: remove_tuplicates\n",
    "#input parameters: input_list"
   ]
  },
  {
   "cell_type": "code",
   "execution_count": 11,
   "id": "0ded2033-ebfe-43c0-8362-1edd73ee0453",
   "metadata": {
    "tags": []
   },
   "outputs": [
    {
     "data": {
      "text/plain": [
       "[2, 6, 3, 1, 4, 5]"
      ]
     },
     "execution_count": 11,
     "metadata": {},
     "output_type": "execute_result"
    }
   ],
   "source": [
    "list = [2,6,3,3,2,1,4,5,4,6]\n",
    "\n",
    "def remove_tuplicates(input_list):\n",
    "    for i, x in enumerate(input_list):\n",
    "        for j, y in enumerate(input_list):\n",
    "            if (i != j):\n",
    "                if (x == y):\n",
    "                    input_list.pop(j)\n",
    "    return input_list            \n",
    "remove_tuplicates(list)"
   ]
  },
  {
   "cell_type": "code",
   "execution_count": null,
   "id": "7accaefa-bd6e-4b45-bcc8-4e7e2c3c6252",
   "metadata": {},
   "outputs": [],
   "source": [
    "#Create a function that transposes a nested list (matrix)\n",
    "#return type: list\n",
    "#function name must be: transpose\n",
    "#input parameters: input_list"
   ]
  },
  {
   "cell_type": "code",
   "execution_count": 339,
   "id": "e0202e8d-280e-4cf9-9d9f-05005356da3a",
   "metadata": {
    "tags": []
   },
   "outputs": [
    {
     "data": {
      "text/plain": [
       "[[1, 4, 7], [2, 5, 8], [3, 6, 9]]"
      ]
     },
     "execution_count": 339,
     "metadata": {},
     "output_type": "execute_result"
    }
   ],
   "source": [
    "list = [[1,2,3],[4,5,6],[7,8,9]]\n",
    "\n",
    "def transpose(input_list):\n",
    "    transposeList = [[0 for x in range(len(input_list))] for y in range(len(input_list[0]))] \n",
    "    for i, x in enumerate(input_list):\n",
    "        for j, y in enumerate(x):\n",
    "            transposeList[j][i] = y        \n",
    "    return transposeList\n",
    "    \n",
    "transpose(list)"
   ]
  },
  {
   "cell_type": "code",
   "execution_count": 17,
   "id": "3afdb058-4285-48c9-a934-3e47d51deab2",
   "metadata": {
    "tags": []
   },
   "outputs": [],
   "source": [
    "#Create a function that can split a nested list into chunks\n",
    "#chunk size is given by parameter\n",
    "#return type: list\n",
    "#function name must be: split_into_chunks\n",
    "#input parameters: input_list,chunk_size"
   ]
  },
  {
   "cell_type": "code",
   "execution_count": 12,
   "id": "2c0228b7-9cbe-41cd-ae8b-89c1b9383cec",
   "metadata": {
    "tags": []
   },
   "outputs": [
    {
     "data": {
      "text/plain": [
       "[[1, 2, 3, 4, 5, 6], [7, 8, 9, 10, 11, 12]]"
      ]
     },
     "execution_count": 12,
     "metadata": {},
     "output_type": "execute_result"
    }
   ],
   "source": [
    "list = [[1,2,3,4],[5,6,7,8],[9,10,11,12]]\n",
    "\n",
    "def split_into_chunks(input_list,chunk_size):\n",
    "    listElementCount = 0\n",
    "    for x in input_list:\n",
    "        listElementCount += len(x)\n",
    "    row = int(listElementCount / chunk_size) + (listElementCount % chunk_size > 0)\n",
    "    column = chunk_size\n",
    "    splittedList = [[0 for x in range(row)] for y in range(column)]\n",
    "    for i, x in enumerate(input_list):\n",
    "        for j, y in enumerate(x):\n",
    "            id = i*len(input_list[i-1])+j\n",
    "            splittedListRow = int(id/row)\n",
    "            splittedListColumn = int(id%row)\n",
    "            splittedList[splittedListRow][splittedListColumn] = input_list[i][j]\n",
    "                \n",
    "    return splittedList\n",
    "\n",
    "split_into_chunks(list,2)"
   ]
  },
  {
   "cell_type": "code",
   "execution_count": 9,
   "id": "afb9c466-0600-4b07-9172-2d531860a90a",
   "metadata": {
    "tags": []
   },
   "outputs": [],
   "source": [
    "#Create a function that can merge n dictionaries\n",
    "#return type: dictionary\n",
    "#function name must be: merge_dicts\n",
    "#input parameters: *dict"
   ]
  },
  {
   "cell_type": "code",
   "execution_count": 96,
   "id": "dfd6b8ca-71ab-4deb-a6e5-46e9f0aa9bfa",
   "metadata": {
    "tags": []
   },
   "outputs": [
    {
     "data": {
      "text/plain": [
       "[['Brand', 'Ford'],\n",
       " ['Model', 'Mustang'],\n",
       " ['Year', 2000],\n",
       " ['Brand', 'Toyota'],\n",
       " ['Model', 'Supra'],\n",
       " ['Year', 1990],\n",
       " ['Brand', 'Nissan'],\n",
       " ['Model', 'Gtr'],\n",
       " ['Year', 1995]]"
      ]
     },
     "execution_count": 96,
     "metadata": {},
     "output_type": "execute_result"
    }
   ],
   "source": [
    "dict1 = {\n",
    "  \"Brand\": \"Ford\",\n",
    "  \"Model\": \"Mustang\",\n",
    "  \"Year\": 2000\n",
    "}\n",
    "\n",
    "dict2 = {\n",
    "  \"Brand\": \"Toyota\",\n",
    "  \"Model\": \"Supra\",\n",
    "  \"Year\": 1990\n",
    "}\n",
    "\n",
    "dict3 = {\n",
    "  \"Brand\": \"Nissan\",\n",
    "  \"Model\": \"Gtr\",\n",
    "  \"Year\": 1995\n",
    "}\n",
    "\n",
    "def merge_dicts(*dict):\n",
    "    merged_Dict = []\n",
    "    for d in dict:\n",
    "        for x, y in d.items():\n",
    "            merged_Dict.append([x,y])\n",
    "    return merged_Dict\n",
    "    \n",
    "merge_dicts(dict1, dict2, dict3)"
   ]
  },
  {
   "cell_type": "code",
   "execution_count": 10,
   "id": "5769b904-e8f0-4855-a977-99cf4bd60ec1",
   "metadata": {
    "tags": []
   },
   "outputs": [],
   "source": [
    "#Create a function that receives a list of integers and sort them by parity\n",
    "#and returns with a dictionary like this: {\"even\":[...],\"odd\":[...]}\n",
    "#return type: dict\n",
    "#function name must be: by_parity\n",
    "#input parameters: input_list"
   ]
  },
  {
   "cell_type": "code",
   "execution_count": 342,
   "id": "43b145e0-68f1-4afc-9d1b-2db62d062072",
   "metadata": {
    "tags": []
   },
   "outputs": [
    {
     "data": {
      "text/plain": [
       "{'even': [2, 4, 6, 8], 'odd': [1, 3, 5, 7, 9]}"
      ]
     },
     "execution_count": 342,
     "metadata": {},
     "output_type": "execute_result"
    }
   ],
   "source": [
    "list = [1,2,3,4,5,6,7,8,9]\n",
    "\n",
    "def by_parity(input_list):\n",
    "    parityDict = {\n",
    "        \"even\": [],\n",
    "        \"odd\": [],}\n",
    "    for x in input_list:\n",
    "        if (x%2==0):\n",
    "            parityDict[\"even\"].append(x)\n",
    "        else:\n",
    "            parityDict[\"odd\"].append(x)\n",
    "    return parityDict\n",
    "\n",
    "by_parity(list)"
   ]
  },
  {
   "cell_type": "code",
   "execution_count": 84,
   "id": "e390da9e-bef8-4e9e-8d1f-b2534fe31345",
   "metadata": {
    "tags": []
   },
   "outputs": [],
   "source": [
    "#Create a function that receives a dictionary like this: {\"some_key\":[1,2,3,4],\"another_key\":[1,2,3,4],....}\n",
    "#and return a dictionary like this : {\"some_key\":mean_of_values,\"another_key\":mean_of_values,....}\n",
    "#in short calculates the mean of the values key wise\n",
    "#return type: dict\n",
    "#function name must be: mean_key_value\n",
    "#input parameters: input_dict"
   ]
  },
  {
   "cell_type": "code",
   "execution_count": 343,
   "id": "4c433cb7-cd10-4a49-94e4-0188dece43ff",
   "metadata": {
    "tags": []
   },
   "outputs": [
    {
     "data": {
      "text/plain": [
       "{'some_key': 2.75, 'another_key': 3.25, 'another_key2': 4.75}"
      ]
     },
     "execution_count": 343,
     "metadata": {},
     "output_type": "execute_result"
    }
   ],
   "source": [
    "dict = {\n",
    "        \"some_key\": [1,3,2,5],\n",
    "        \"another_key\": [2,4,6,1],\n",
    "        \"another_key2\": [2,7,9,1]}\n",
    "\n",
    "def mean_key_value(input_dict):\n",
    "    meanDict = {}\n",
    "    for item in input_dict:\n",
    "        meanDict[item] = sum(input_dict[item]) / len(input_dict[item])\n",
    "    return meanDict\n",
    "\n",
    "mean_key_value(dict)"
   ]
  }
 ],
 "metadata": {
  "kernelspec": {
   "display_name": "Python 3 (ipykernel)",
   "language": "python",
   "name": "python3"
  },
  "language_info": {
   "codemirror_mode": {
    "name": "ipython",
    "version": 3
   },
   "file_extension": ".py",
   "mimetype": "text/x-python",
   "name": "python",
   "nbconvert_exporter": "python",
   "pygments_lexer": "ipython3",
   "version": "3.11.2"
  }
 },
 "nbformat": 4,
 "nbformat_minor": 5
}
